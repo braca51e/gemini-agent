{
 "cells": [
  {
   "cell_type": "code",
   "execution_count": 1,
   "metadata": {},
   "outputs": [
    {
     "name": "stdout",
     "output_type": "stream",
     "text": [
      "Requirement already satisfied: langchain-google-vertexai in /home/luis/miniconda3/envs/langchain/lib/python3.12/site-packages (1.0.8)\n",
      "Requirement already satisfied: langchain in /home/luis/miniconda3/envs/langchain/lib/python3.12/site-packages (0.2.12)\n",
      "Requirement already satisfied: langgraph in /home/luis/miniconda3/envs/langchain/lib/python3.12/site-packages (0.1.19)\n",
      "Requirement already satisfied: langchain_community in /home/luis/miniconda3/envs/langchain/lib/python3.12/site-packages (0.2.11)\n",
      "Requirement already satisfied: langchainhub in /home/luis/miniconda3/envs/langchain/lib/python3.12/site-packages (0.1.20)\n",
      "Requirement already satisfied: roslibpy in /home/luis/miniconda3/envs/langchain/lib/python3.12/site-packages (1.7.0)\n",
      "Requirement already satisfied: langchain-openai in /home/luis/miniconda3/envs/langchain/lib/python3.12/site-packages (0.1.20)\n",
      "Requirement already satisfied: openai in /home/luis/miniconda3/envs/langchain/lib/python3.12/site-packages (1.39.0)\n",
      "Requirement already satisfied: pillow in /home/luis/miniconda3/envs/langchain/lib/python3.12/site-packages (10.4.0)\n",
      "Requirement already satisfied: opencv-python in /home/luis/miniconda3/envs/langchain/lib/python3.12/site-packages (4.10.0.84)\n",
      "Requirement already satisfied: matplotlib in /home/luis/miniconda3/envs/langchain/lib/python3.12/site-packages (3.9.0)\n",
      "Requirement already satisfied: google-cloud-aiplatform<2.0.0,>=1.56.0 in /home/luis/miniconda3/envs/langchain/lib/python3.12/site-packages (from langchain-google-vertexai) (1.59.0)\n",
      "Requirement already satisfied: google-cloud-storage<3.0.0,>=2.17.0 in /home/luis/miniconda3/envs/langchain/lib/python3.12/site-packages (from langchain-google-vertexai) (2.18.0)\n",
      "Requirement already satisfied: langchain-core<0.3,>=0.2.25 in /home/luis/miniconda3/envs/langchain/lib/python3.12/site-packages (from langchain-google-vertexai) (0.2.28)\n",
      "Requirement already satisfied: PyYAML>=5.3 in /home/luis/miniconda3/envs/langchain/lib/python3.12/site-packages (from langchain) (6.0.1)\n",
      "Requirement already satisfied: SQLAlchemy<3,>=1.4 in /home/luis/miniconda3/envs/langchain/lib/python3.12/site-packages (from langchain) (2.0.31)\n",
      "Requirement already satisfied: aiohttp<4.0.0,>=3.8.3 in /home/luis/miniconda3/envs/langchain/lib/python3.12/site-packages (from langchain) (3.9.5)\n",
      "Requirement already satisfied: langchain-text-splitters<0.3.0,>=0.2.0 in /home/luis/miniconda3/envs/langchain/lib/python3.12/site-packages (from langchain) (0.2.2)\n",
      "Requirement already satisfied: langsmith<0.2.0,>=0.1.17 in /home/luis/miniconda3/envs/langchain/lib/python3.12/site-packages (from langchain) (0.1.88)\n",
      "Requirement already satisfied: numpy<2.0.0,>=1.26.0 in /home/luis/miniconda3/envs/langchain/lib/python3.12/site-packages (from langchain) (1.26.4)\n",
      "Requirement already satisfied: pydantic<3,>=1 in /home/luis/miniconda3/envs/langchain/lib/python3.12/site-packages (from langchain) (2.8.2)\n",
      "Requirement already satisfied: requests<3,>=2 in /home/luis/miniconda3/envs/langchain/lib/python3.12/site-packages (from langchain) (2.32.3)\n",
      "Requirement already satisfied: tenacity!=8.4.0,<9.0.0,>=8.1.0 in /home/luis/miniconda3/envs/langchain/lib/python3.12/site-packages (from langchain) (8.3.0)\n",
      "Requirement already satisfied: dataclasses-json<0.7,>=0.5.7 in /home/luis/miniconda3/envs/langchain/lib/python3.12/site-packages (from langchain_community) (0.6.7)\n",
      "Requirement already satisfied: packaging<25,>=23.2 in /home/luis/miniconda3/envs/langchain/lib/python3.12/site-packages (from langchainhub) (23.2)\n",
      "Requirement already satisfied: types-requests<3.0.0.0,>=2.31.0.2 in /home/luis/miniconda3/envs/langchain/lib/python3.12/site-packages (from langchainhub) (2.32.0.20240712)\n",
      "Requirement already satisfied: autobahn>=17.10 in /home/luis/miniconda3/envs/langchain/lib/python3.12/site-packages (from roslibpy) (23.6.2)\n",
      "Requirement already satisfied: twisted>=17.9 in /home/luis/miniconda3/envs/langchain/lib/python3.12/site-packages (from twisted[tls]>=17.9->roslibpy) (24.3.0)\n",
      "Requirement already satisfied: tiktoken<1,>=0.7 in /home/luis/miniconda3/envs/langchain/lib/python3.12/site-packages (from langchain-openai) (0.7.0)\n",
      "Requirement already satisfied: anyio<5,>=3.5.0 in /home/luis/miniconda3/envs/langchain/lib/python3.12/site-packages (from openai) (4.4.0)\n",
      "Requirement already satisfied: distro<2,>=1.7.0 in /home/luis/miniconda3/envs/langchain/lib/python3.12/site-packages (from openai) (1.9.0)\n",
      "Requirement already satisfied: httpx<1,>=0.23.0 in /home/luis/miniconda3/envs/langchain/lib/python3.12/site-packages (from openai) (0.27.0)\n",
      "Requirement already satisfied: sniffio in /home/luis/miniconda3/envs/langchain/lib/python3.12/site-packages (from openai) (1.3.1)\n",
      "Requirement already satisfied: tqdm>4 in /home/luis/miniconda3/envs/langchain/lib/python3.12/site-packages (from openai) (4.66.4)\n",
      "Requirement already satisfied: typing-extensions<5,>=4.7 in /home/luis/miniconda3/envs/langchain/lib/python3.12/site-packages (from openai) (4.12.2)\n",
      "Requirement already satisfied: contourpy>=1.0.1 in /home/luis/miniconda3/envs/langchain/lib/python3.12/site-packages (from matplotlib) (1.2.1)\n",
      "Requirement already satisfied: cycler>=0.10 in /home/luis/miniconda3/envs/langchain/lib/python3.12/site-packages (from matplotlib) (0.12.1)\n",
      "Requirement already satisfied: fonttools>=4.22.0 in /home/luis/miniconda3/envs/langchain/lib/python3.12/site-packages (from matplotlib) (4.53.1)\n",
      "Requirement already satisfied: kiwisolver>=1.3.1 in /home/luis/miniconda3/envs/langchain/lib/python3.12/site-packages (from matplotlib) (1.4.5)\n",
      "Requirement already satisfied: pyparsing>=2.3.1 in /home/luis/miniconda3/envs/langchain/lib/python3.12/site-packages (from matplotlib) (3.1.2)\n",
      "Requirement already satisfied: python-dateutil>=2.7 in /home/luis/miniconda3/envs/langchain/lib/python3.12/site-packages (from matplotlib) (2.9.0.post0)\n",
      "Requirement already satisfied: aiosignal>=1.1.2 in /home/luis/miniconda3/envs/langchain/lib/python3.12/site-packages (from aiohttp<4.0.0,>=3.8.3->langchain) (1.3.1)\n",
      "Requirement already satisfied: attrs>=17.3.0 in /home/luis/miniconda3/envs/langchain/lib/python3.12/site-packages (from aiohttp<4.0.0,>=3.8.3->langchain) (23.2.0)\n",
      "Requirement already satisfied: frozenlist>=1.1.1 in /home/luis/miniconda3/envs/langchain/lib/python3.12/site-packages (from aiohttp<4.0.0,>=3.8.3->langchain) (1.4.1)\n",
      "Requirement already satisfied: multidict<7.0,>=4.5 in /home/luis/miniconda3/envs/langchain/lib/python3.12/site-packages (from aiohttp<4.0.0,>=3.8.3->langchain) (6.0.5)\n",
      "Requirement already satisfied: yarl<2.0,>=1.0 in /home/luis/miniconda3/envs/langchain/lib/python3.12/site-packages (from aiohttp<4.0.0,>=3.8.3->langchain) (1.9.4)\n",
      "Requirement already satisfied: idna>=2.8 in /home/luis/miniconda3/envs/langchain/lib/python3.12/site-packages (from anyio<5,>=3.5.0->openai) (3.7)\n",
      "Requirement already satisfied: txaio>=21.2.1 in /home/luis/miniconda3/envs/langchain/lib/python3.12/site-packages (from autobahn>=17.10->roslibpy) (23.1.1)\n",
      "Requirement already satisfied: cryptography>=3.4.6 in /home/luis/miniconda3/envs/langchain/lib/python3.12/site-packages (from autobahn>=17.10->roslibpy) (42.0.8)\n",
      "Requirement already satisfied: hyperlink>=21.0.0 in /home/luis/miniconda3/envs/langchain/lib/python3.12/site-packages (from autobahn>=17.10->roslibpy) (21.0.0)\n",
      "Requirement already satisfied: setuptools in /home/luis/miniconda3/envs/langchain/lib/python3.12/site-packages (from autobahn>=17.10->roslibpy) (69.5.1)\n",
      "Requirement already satisfied: marshmallow<4.0.0,>=3.18.0 in /home/luis/miniconda3/envs/langchain/lib/python3.12/site-packages (from dataclasses-json<0.7,>=0.5.7->langchain_community) (3.21.3)\n",
      "Requirement already satisfied: typing-inspect<1,>=0.4.0 in /home/luis/miniconda3/envs/langchain/lib/python3.12/site-packages (from dataclasses-json<0.7,>=0.5.7->langchain_community) (0.9.0)\n",
      "Requirement already satisfied: google-api-core!=2.0.*,!=2.1.*,!=2.2.*,!=2.3.*,!=2.4.*,!=2.5.*,!=2.6.*,!=2.7.*,<3.0.0dev,>=1.34.1 in /home/luis/miniconda3/envs/langchain/lib/python3.12/site-packages (from google-api-core[grpc]!=2.0.*,!=2.1.*,!=2.2.*,!=2.3.*,!=2.4.*,!=2.5.*,!=2.6.*,!=2.7.*,<3.0.0dev,>=1.34.1->google-cloud-aiplatform<2.0.0,>=1.56.0->langchain-google-vertexai) (2.19.1)\n",
      "Requirement already satisfied: google-auth<3.0.0dev,>=2.14.1 in /home/luis/miniconda3/envs/langchain/lib/python3.12/site-packages (from google-cloud-aiplatform<2.0.0,>=1.56.0->langchain-google-vertexai) (2.32.0)\n",
      "Requirement already satisfied: proto-plus<2.0.0dev,>=1.22.3 in /home/luis/miniconda3/envs/langchain/lib/python3.12/site-packages (from google-cloud-aiplatform<2.0.0,>=1.56.0->langchain-google-vertexai) (1.24.0)\n",
      "Requirement already satisfied: protobuf!=3.20.0,!=3.20.1,!=4.21.0,!=4.21.1,!=4.21.2,!=4.21.3,!=4.21.4,!=4.21.5,<5.0.0dev,>=3.19.5 in /home/luis/miniconda3/envs/langchain/lib/python3.12/site-packages (from google-cloud-aiplatform<2.0.0,>=1.56.0->langchain-google-vertexai) (4.25.3)\n",
      "Requirement already satisfied: google-cloud-bigquery!=3.20.0,<4.0.0dev,>=1.15.0 in /home/luis/miniconda3/envs/langchain/lib/python3.12/site-packages (from google-cloud-aiplatform<2.0.0,>=1.56.0->langchain-google-vertexai) (3.25.0)\n",
      "Requirement already satisfied: google-cloud-resource-manager<3.0.0dev,>=1.3.3 in /home/luis/miniconda3/envs/langchain/lib/python3.12/site-packages (from google-cloud-aiplatform<2.0.0,>=1.56.0->langchain-google-vertexai) (1.12.4)\n",
      "Requirement already satisfied: shapely<3.0.0dev in /home/luis/miniconda3/envs/langchain/lib/python3.12/site-packages (from google-cloud-aiplatform<2.0.0,>=1.56.0->langchain-google-vertexai) (2.0.5)\n",
      "Requirement already satisfied: docstring-parser<1 in /home/luis/miniconda3/envs/langchain/lib/python3.12/site-packages (from google-cloud-aiplatform<2.0.0,>=1.56.0->langchain-google-vertexai) (0.16)\n",
      "Requirement already satisfied: google-cloud-core<3.0dev,>=2.3.0 in /home/luis/miniconda3/envs/langchain/lib/python3.12/site-packages (from google-cloud-storage<3.0.0,>=2.17.0->langchain-google-vertexai) (2.4.1)\n",
      "Requirement already satisfied: google-resumable-media>=2.6.0 in /home/luis/miniconda3/envs/langchain/lib/python3.12/site-packages (from google-cloud-storage<3.0.0,>=2.17.0->langchain-google-vertexai) (2.7.1)\n",
      "Requirement already satisfied: google-crc32c<2.0dev,>=1.0 in /home/luis/miniconda3/envs/langchain/lib/python3.12/site-packages (from google-cloud-storage<3.0.0,>=2.17.0->langchain-google-vertexai) (1.5.0)\n",
      "Requirement already satisfied: certifi in /home/luis/miniconda3/envs/langchain/lib/python3.12/site-packages (from httpx<1,>=0.23.0->openai) (2024.7.4)\n",
      "Requirement already satisfied: httpcore==1.* in /home/luis/miniconda3/envs/langchain/lib/python3.12/site-packages (from httpx<1,>=0.23.0->openai) (1.0.5)\n",
      "Requirement already satisfied: h11<0.15,>=0.13 in /home/luis/miniconda3/envs/langchain/lib/python3.12/site-packages (from httpcore==1.*->httpx<1,>=0.23.0->openai) (0.14.0)\n",
      "Requirement already satisfied: jsonpatch<2.0,>=1.33 in /home/luis/miniconda3/envs/langchain/lib/python3.12/site-packages (from langchain-core<0.3,>=0.2.25->langchain-google-vertexai) (1.33)\n",
      "Requirement already satisfied: orjson<4.0.0,>=3.9.14 in /home/luis/miniconda3/envs/langchain/lib/python3.12/site-packages (from langsmith<0.2.0,>=0.1.17->langchain) (3.10.6)\n",
      "Requirement already satisfied: annotated-types>=0.4.0 in /home/luis/miniconda3/envs/langchain/lib/python3.12/site-packages (from pydantic<3,>=1->langchain) (0.7.0)\n",
      "Requirement already satisfied: pydantic-core==2.20.1 in /home/luis/miniconda3/envs/langchain/lib/python3.12/site-packages (from pydantic<3,>=1->langchain) (2.20.1)\n",
      "Requirement already satisfied: six>=1.5 in /home/luis/miniconda3/envs/langchain/lib/python3.12/site-packages (from python-dateutil>=2.7->matplotlib) (1.16.0)\n",
      "Requirement already satisfied: charset-normalizer<4,>=2 in /home/luis/miniconda3/envs/langchain/lib/python3.12/site-packages (from requests<3,>=2->langchain) (3.3.2)\n",
      "Requirement already satisfied: urllib3<3,>=1.21.1 in /home/luis/miniconda3/envs/langchain/lib/python3.12/site-packages (from requests<3,>=2->langchain) (2.2.2)\n",
      "Requirement already satisfied: greenlet!=0.4.17 in /home/luis/miniconda3/envs/langchain/lib/python3.12/site-packages (from SQLAlchemy<3,>=1.4->langchain) (3.0.3)\n",
      "Requirement already satisfied: regex>=2022.1.18 in /home/luis/miniconda3/envs/langchain/lib/python3.12/site-packages (from tiktoken<1,>=0.7->langchain-openai) (2024.5.15)\n",
      "Requirement already satisfied: automat>=0.8.0 in /home/luis/miniconda3/envs/langchain/lib/python3.12/site-packages (from twisted>=17.9->twisted[tls]>=17.9->roslibpy) (22.10.0)\n",
      "Requirement already satisfied: constantly>=15.1 in /home/luis/miniconda3/envs/langchain/lib/python3.12/site-packages (from twisted>=17.9->twisted[tls]>=17.9->roslibpy) (23.10.4)\n",
      "Requirement already satisfied: incremental>=22.10.0 in /home/luis/miniconda3/envs/langchain/lib/python3.12/site-packages (from twisted>=17.9->twisted[tls]>=17.9->roslibpy) (22.10.0)\n",
      "Requirement already satisfied: zope-interface>=5 in /home/luis/miniconda3/envs/langchain/lib/python3.12/site-packages (from twisted>=17.9->twisted[tls]>=17.9->roslibpy) (6.4.post2)\n",
      "Requirement already satisfied: pyopenssl>=21.0.0 in /home/luis/miniconda3/envs/langchain/lib/python3.12/site-packages (from twisted[tls]>=17.9->roslibpy) (24.1.0)\n",
      "Requirement already satisfied: service-identity>=18.1.0 in /home/luis/miniconda3/envs/langchain/lib/python3.12/site-packages (from twisted[tls]>=17.9->roslibpy) (24.1.0)\n",
      "Requirement already satisfied: cffi>=1.12 in /home/luis/miniconda3/envs/langchain/lib/python3.12/site-packages (from cryptography>=3.4.6->autobahn>=17.10->roslibpy) (1.16.0)\n",
      "Requirement already satisfied: googleapis-common-protos<2.0.dev0,>=1.56.2 in /home/luis/miniconda3/envs/langchain/lib/python3.12/site-packages (from google-api-core!=2.0.*,!=2.1.*,!=2.2.*,!=2.3.*,!=2.4.*,!=2.5.*,!=2.6.*,!=2.7.*,<3.0.0dev,>=1.34.1->google-api-core[grpc]!=2.0.*,!=2.1.*,!=2.2.*,!=2.3.*,!=2.4.*,!=2.5.*,!=2.6.*,!=2.7.*,<3.0.0dev,>=1.34.1->google-cloud-aiplatform<2.0.0,>=1.56.0->langchain-google-vertexai) (1.63.2)\n",
      "Requirement already satisfied: grpcio<2.0dev,>=1.33.2 in /home/luis/miniconda3/envs/langchain/lib/python3.12/site-packages (from google-api-core[grpc]!=2.0.*,!=2.1.*,!=2.2.*,!=2.3.*,!=2.4.*,!=2.5.*,!=2.6.*,!=2.7.*,<3.0.0dev,>=1.34.1->google-cloud-aiplatform<2.0.0,>=1.56.0->langchain-google-vertexai) (1.65.1)\n",
      "Requirement already satisfied: grpcio-status<2.0.dev0,>=1.33.2 in /home/luis/miniconda3/envs/langchain/lib/python3.12/site-packages (from google-api-core[grpc]!=2.0.*,!=2.1.*,!=2.2.*,!=2.3.*,!=2.4.*,!=2.5.*,!=2.6.*,!=2.7.*,<3.0.0dev,>=1.34.1->google-cloud-aiplatform<2.0.0,>=1.56.0->langchain-google-vertexai) (1.62.2)\n",
      "Requirement already satisfied: cachetools<6.0,>=2.0.0 in /home/luis/miniconda3/envs/langchain/lib/python3.12/site-packages (from google-auth<3.0.0dev,>=2.14.1->google-cloud-aiplatform<2.0.0,>=1.56.0->langchain-google-vertexai) (5.4.0)\n",
      "Requirement already satisfied: pyasn1-modules>=0.2.1 in /home/luis/miniconda3/envs/langchain/lib/python3.12/site-packages (from google-auth<3.0.0dev,>=2.14.1->google-cloud-aiplatform<2.0.0,>=1.56.0->langchain-google-vertexai) (0.4.0)\n",
      "Requirement already satisfied: rsa<5,>=3.1.4 in /home/luis/miniconda3/envs/langchain/lib/python3.12/site-packages (from google-auth<3.0.0dev,>=2.14.1->google-cloud-aiplatform<2.0.0,>=1.56.0->langchain-google-vertexai) (4.9)\n",
      "Requirement already satisfied: grpc-google-iam-v1<1.0.0dev,>=0.12.4 in /home/luis/miniconda3/envs/langchain/lib/python3.12/site-packages (from google-cloud-resource-manager<3.0.0dev,>=1.3.3->google-cloud-aiplatform<2.0.0,>=1.56.0->langchain-google-vertexai) (0.13.1)\n",
      "Requirement already satisfied: jsonpointer>=1.9 in /home/luis/miniconda3/envs/langchain/lib/python3.12/site-packages (from jsonpatch<2.0,>=1.33->langchain-core<0.3,>=0.2.25->langchain-google-vertexai) (3.0.0)\n",
      "Requirement already satisfied: pyasn1 in /home/luis/miniconda3/envs/langchain/lib/python3.12/site-packages (from service-identity>=18.1.0->twisted[tls]>=17.9->roslibpy) (0.6.0)\n",
      "Requirement already satisfied: mypy-extensions>=0.3.0 in /home/luis/miniconda3/envs/langchain/lib/python3.12/site-packages (from typing-inspect<1,>=0.4.0->dataclasses-json<0.7,>=0.5.7->langchain_community) (1.0.0)\n",
      "Requirement already satisfied: pycparser in /home/luis/miniconda3/envs/langchain/lib/python3.12/site-packages (from cffi>=1.12->cryptography>=3.4.6->autobahn>=17.10->roslibpy) (2.22)\n"
     ]
    }
   ],
   "source": [
    "! pip3 install -U langchain-google-vertexai langchain langgraph langchain_community langchainhub roslibpy langchain-openai openai pillow opencv-python matplotlib"
   ]
  },
  {
   "cell_type": "markdown",
   "metadata": {},
   "source": [
    "# Controlling Turtlebot3 with LLMs"
   ]
  },
  {
   "cell_type": "markdown",
   "metadata": {},
   "source": [
    "Testing ideas from paper RAG papers into a RAG agent:\n",
    "\n",
    "- **Turtlebot3 Localizarion:** Lcalize the robot on a 4x5 grid.\n",
    "- **Path Planning:** Generate a path to move the robot to a new given location on the grid.\n"
   ]
  },
  {
   "cell_type": "code",
   "execution_count": 1,
   "metadata": {},
   "outputs": [],
   "source": [
    "import os\n",
    "os.environ['LANGCHAIN_TRACING_V2'] = 'true'\n",
    "os.environ['LANGCHAIN_ENDPOINT'] = 'https://api.smith.langchain.com'\n",
    "os.environ['LANGCHAIN_API_KEY'] = ' '"
   ]
  },
  {
   "cell_type": "markdown",
   "metadata": {},
   "source": [
    "## Tools"
   ]
  },
  {
   "cell_type": "code",
   "execution_count": 2,
   "metadata": {},
   "outputs": [],
   "source": [
    "import sys\n",
    "# Add the project directory to the Python path\n",
    "sys.path.append('/tools')\n",
    "from tools.dino_tool import DinoPromptRun\n",
    "from tools.location_tool import LocationToolRun\n",
    "\n",
    "test_tools = False\n",
    "\n",
    "if test_tools:\n",
    "    dino = DinoPromptRun()\n",
    "    bbox = dino.run({})\n",
    "    location_tool = LocationToolRun()\n",
    "\n",
    "    bbox = [str(b) for b in bbox]\n",
    "    location = location_tool.run({'bbox':bbox})\n",
    "    print(f'Turtlebot3 location on grid: {location}')\n",
    "    "
   ]
  },
  {
   "cell_type": "markdown",
   "metadata": {},
   "source": [
    "# ReAct Agent\n"
   ]
  },
  {
   "cell_type": "code",
   "execution_count": 3,
   "metadata": {},
   "outputs": [
    {
     "name": "stderr",
     "output_type": "stream",
     "text": [
      "/home/luis/miniconda3/envs/langchain/lib/python3.12/site-packages/google_crc32c/__init__.py:29: RuntimeWarning: As the c extension couldn't be imported, `google-crc32c` is using a pure python implementation that is significantly slower. If possible, please configure a c build environment and compile the extension\n",
      "  warnings.warn(_SLOW_CRC32C_WARNING, RuntimeWarning)\n"
     ]
    },
    {
     "name": "stdout",
     "output_type": "stream",
     "text": [
      "================================\u001b[1m System Message \u001b[0m================================\n",
      "\n",
      "You are a helpful assistant.\n",
      "\n",
      "=============================\u001b[1m Messages Placeholder \u001b[0m=============================\n",
      "\n",
      "\u001b[33;1m\u001b[1;3m{{messages}}\u001b[0m\n"
     ]
    },
    {
     "name": "stderr",
     "output_type": "stream",
     "text": [
      "WARNING: All log messages before absl::InitializeLog() is called are written to STDERR\n",
      "I0000 00:00:1722966060.906884 2688653 config.cc:230] gRPC experiments enabled: call_status_override_on_cancellation, event_engine_dns, event_engine_listener, http2_stats_fix, monitoring_experiment, pick_first_new, trace_record_callops, work_serializer_clears_time_cache\n"
     ]
    },
    {
     "name": "stdout",
     "output_type": "stream",
     "text": [
      "Connecting to ROS...\n"
     ]
    },
    {
     "name": "stderr",
     "output_type": "stream",
     "text": [
      "/tmp/ipykernel_2688653/287645765.py:19: LangGraphDeprecationWarning: Parameter 'messages_modifier' in function 'create_react_agent' is deprecated as of version 0.1.9 and will be removed in version 0.2.0. Use 'state_modifier' parameter instead.\n",
      "  agent_executor = create_react_agent(llm, tools, messages_modifier=prompt)\n"
     ]
    }
   ],
   "source": [
    "from langchain import hub\n",
    "import os\n",
    "os.environ['GOOGLE_CLOUD_PROJECT'] = ''\n",
    "from langchain_core.messages import HumanMessage\n",
    "from langchain_google_vertexai import ChatVertexAI\n",
    "from langgraph.prebuilt import create_react_agent\n",
    "\n",
    "\n",
    "# Get the prompt to use - you can modify this!\n",
    "prompt = hub.pull(\"wfh/react-agent-executor\")\n",
    "prompt.pretty_print()\n",
    "\n",
    "# Choose the LLM that will drive the agent\n",
    "llm = ChatVertexAI(model_name=\"gemini-1.5-pro-001\",\n",
    "                   temperature=0\n",
    "                   )\n",
    "tools = [DinoPromptRun(), LocationToolRun()]\n",
    "\n",
    "agent_executor = create_react_agent(llm, tools, messages_modifier=prompt)"
   ]
  },
  {
   "cell_type": "code",
   "execution_count": 6,
   "metadata": {},
   "outputs": [
    {
     "name": "stdout",
     "output_type": "stream",
     "text": [
      "Calling dino tool\n",
      "Calling location tool\n"
     ]
    },
    {
     "data": {
      "text/plain": [
       "{'messages': [HumanMessage(content='Monitor the turtlebot3 robot and then generate a path to move it to location (1,2). The path should be a list of step actions one at a time from up, down, right and left.', id='88732b33-99a5-4ada-b031-8577f6b32b03'),\n",
       "  AIMessage(content='', additional_kwargs={'function_call': {'name': 'dinoDetectionTool', 'arguments': '{}'}}, response_metadata={'is_blocked': False, 'safety_ratings': [{'category': 'HARM_CATEGORY_HATE_SPEECH', 'probability_label': 'NEGLIGIBLE', 'blocked': False, 'severity': 'HARM_SEVERITY_NEGLIGIBLE'}, {'category': 'HARM_CATEGORY_DANGEROUS_CONTENT', 'probability_label': 'NEGLIGIBLE', 'blocked': False, 'severity': 'HARM_SEVERITY_LOW'}, {'category': 'HARM_CATEGORY_HARASSMENT', 'probability_label': 'NEGLIGIBLE', 'blocked': False, 'severity': 'HARM_SEVERITY_NEGLIGIBLE'}, {'category': 'HARM_CATEGORY_SEXUALLY_EXPLICIT', 'probability_label': 'NEGLIGIBLE', 'blocked': False, 'severity': 'HARM_SEVERITY_NEGLIGIBLE'}], 'usage_metadata': {'prompt_token_count': 179, 'candidates_token_count': 3, 'total_token_count': 182}, 'finish_reason': 'STOP'}, id='run-65d22ad6-c4e8-4bab-ac2e-fdd55a720cf1-0', tool_calls=[{'name': 'dinoDetectionTool', 'args': {}, 'id': 'c40193ad-1e3d-4bd1-a857-706030d7b26e', 'type': 'tool_call'}], usage_metadata={'input_tokens': 179, 'output_tokens': 3, 'total_tokens': 182}),\n",
       "  ToolMessage(content='[0.8270946565221567, 0.6655485508805614, 1.000043224897541, 0.9756574210474047]', name='dinoDetectionTool', id='123289d2-0dc2-41ed-b4ff-6ad130a4199c', tool_call_id='c40193ad-1e3d-4bd1-a857-706030d7b26e'),\n",
       "  AIMessage(content='', additional_kwargs={'function_call': {'name': 'locationGridTool', 'arguments': '{\"bbox\": \"[0.8270946565221567, 0.6655485508805614, 1.000043224897541, 0.9756574210474047]\"}'}}, response_metadata={'is_blocked': False, 'safety_ratings': [{'category': 'HARM_CATEGORY_HATE_SPEECH', 'probability_label': 'NEGLIGIBLE', 'blocked': False, 'severity': 'HARM_SEVERITY_NEGLIGIBLE'}, {'category': 'HARM_CATEGORY_DANGEROUS_CONTENT', 'probability_label': 'NEGLIGIBLE', 'blocked': False, 'severity': 'HARM_SEVERITY_LOW'}, {'category': 'HARM_CATEGORY_HARASSMENT', 'probability_label': 'NEGLIGIBLE', 'blocked': False, 'severity': 'HARM_SEVERITY_NEGLIGIBLE'}, {'category': 'HARM_CATEGORY_SEXUALLY_EXPLICIT', 'probability_label': 'NEGLIGIBLE', 'blocked': False, 'severity': 'HARM_SEVERITY_NEGLIGIBLE'}], 'usage_metadata': {'prompt_token_count': 265, 'candidates_token_count': 83, 'total_token_count': 348}, 'finish_reason': 'STOP'}, id='run-08543023-d988-4807-ad45-73ad9c85f395-0', tool_calls=[{'name': 'locationGridTool', 'args': {'bbox': '[0.8270946565221567, 0.6655485508805614, 1.000043224897541, 0.9756574210474047]'}, 'id': '1bbf6403-59c2-48ca-ae1f-116ffad5d194', 'type': 'tool_call'}], usage_metadata={'input_tokens': 265, 'output_tokens': 83, 'total_tokens': 348}),\n",
       "  ToolMessage(content=\"Error: ValidationError(model='LocationToolInput', errors=[{'loc': ('bbox',), 'msg': 'value is not a valid list', 'type': 'type_error.list'}])\\n Please fix your mistakes.\", name='locationGridTool', id='39642822-3aee-443d-9b42-5aeba0de0a81', tool_call_id='1bbf6403-59c2-48ca-ae1f-116ffad5d194'),\n",
       "  AIMessage(content='\\n', additional_kwargs={'function_call': {'name': 'locationGridTool', 'arguments': '{\"bbox\": [0.8270946565221567, 0.6655485508805614, 1.000043224897541, 0.9756574210474047]}'}}, response_metadata={'is_blocked': False, 'safety_ratings': [{'category': 'HARM_CATEGORY_HATE_SPEECH', 'probability_label': 'NEGLIGIBLE', 'blocked': False, 'severity': 'HARM_SEVERITY_NEGLIGIBLE'}, {'category': 'HARM_CATEGORY_DANGEROUS_CONTENT', 'probability_label': 'NEGLIGIBLE', 'blocked': False, 'severity': 'HARM_SEVERITY_LOW'}, {'category': 'HARM_CATEGORY_HARASSMENT', 'probability_label': 'NEGLIGIBLE', 'blocked': False, 'severity': 'HARM_SEVERITY_NEGLIGIBLE'}, {'category': 'HARM_CATEGORY_SEXUALLY_EXPLICIT', 'probability_label': 'NEGLIGIBLE', 'blocked': False, 'severity': 'HARM_SEVERITY_NEGLIGIBLE'}], 'usage_metadata': {'prompt_token_count': 399, 'candidates_token_count': 5, 'total_token_count': 404}, 'finish_reason': 'STOP'}, id='run-0982fad3-e649-489e-834a-8a5bd20c6694-0', tool_calls=[{'name': 'locationGridTool', 'args': {'bbox': [0.8270946565221567, 0.6655485508805614, 1.000043224897541, 0.9756574210474047]}, 'id': '4b9e60ca-ff0c-40f8-903a-f3770c318aa2', 'type': 'tool_call'}], usage_metadata={'input_tokens': 399, 'output_tokens': 5, 'total_tokens': 404}),\n",
       "  ToolMessage(content='(4,5)', name='locationGridTool', id='d7533ec8-7edd-44f5-aebf-a62105e18407', tool_call_id='4b9e60ca-ff0c-40f8-903a-f3770c318aa2'),\n",
       "  AIMessage(content=\"The robot is currently at location (4, 5). To move it to (1, 2), it needs to move left 3 steps and up 3 steps. Here's the path:\\n\\n```python\\npath = ['left', 'left', 'left', 'up', 'up', 'up']\\n``` \\n\", response_metadata={'is_blocked': False, 'safety_ratings': [{'category': 'HARM_CATEGORY_HATE_SPEECH', 'probability_label': 'NEGLIGIBLE', 'blocked': False, 'severity': 'HARM_SEVERITY_NEGLIGIBLE'}, {'category': 'HARM_CATEGORY_DANGEROUS_CONTENT', 'probability_label': 'NEGLIGIBLE', 'blocked': False, 'severity': 'HARM_SEVERITY_NEGLIGIBLE'}, {'category': 'HARM_CATEGORY_HARASSMENT', 'probability_label': 'NEGLIGIBLE', 'blocked': False, 'severity': 'HARM_SEVERITY_NEGLIGIBLE'}, {'category': 'HARM_CATEGORY_SEXUALLY_EXPLICIT', 'probability_label': 'NEGLIGIBLE', 'blocked': False, 'severity': 'HARM_SEVERITY_NEGLIGIBLE'}], 'usage_metadata': {'prompt_token_count': 413, 'candidates_token_count': 70, 'total_token_count': 483}, 'finish_reason': 'STOP'}, id='run-613911d3-99a5-4528-877b-fec2ff700e83-0', usage_metadata={'input_tokens': 413, 'output_tokens': 70, 'total_tokens': 483})]}"
      ]
     },
     "execution_count": 6,
     "metadata": {},
     "output_type": "execute_result"
    }
   ],
   "source": [
    "inputs = {\"messages\": [HumanMessage(content=\"Monitor the turtlebot3 robot and then generate a path to move it to location (1,2). The path should be a list of step actions one at a time from up, down, right and left.\")]} \n",
    "agent_executor.invoke(inputs)"
   ]
  },
  {
   "cell_type": "code",
   "execution_count": 8,
   "metadata": {},
   "outputs": [
    {
     "data": {
      "image/jpeg": "[encoded data removed]",
      "text/plain": [
       "<IPython.core.display.Image object>"
      ]
     },
     "metadata": {},
     "output_type": "display_data"
    }
   ],
   "source": [
    "from IPython.display import Image, display\n",
    "\n",
    "display(Image(agent_executor.get_graph(xray=True).draw_mermaid_png()))"
   ]
  }
 ],
 "metadata": {
  "kernelspec": {
   "display_name": "langchain",
   "language": "python",
   "name": "langchain"
  },
  "language_info": {
   "codemirror_mode": {
    "name": "ipython",
    "version": 3
   },
   "file_extension": ".py",
   "mimetype": "text/x-python",
   "name": "python",
   "nbconvert_exporter": "python",
   "pygments_lexer": "ipython3",
   "version": "3.12.0"
  }
 },
 "nbformat": 4,
 "nbformat_minor": 2
}
